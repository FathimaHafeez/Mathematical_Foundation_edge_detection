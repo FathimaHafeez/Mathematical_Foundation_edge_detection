{
 "cells": [
  {
   "cell_type": "code",
   "execution_count": 2,
   "metadata": {},
   "outputs": [],
   "source": [
    "import sympy as sym\n",
    "from sympy import symbols\n",
    "from sympy import * "
   ]
  },
  {
   "cell_type": "markdown",
   "metadata": {},
   "source": [
    "### Q1>\n",
    "\n",
    "### A scientist is keeping track of a the growth rate of cells. He uses the formula: y(t)=1000e<sup>5t-300</sup>, where t  represents the number of days that have passed. How many cells will there be after 62 days? What is the rate at which the cells are growing at this time? \n",
    "### Hint: You will need the chain rule, as well as the exponential rule."
   ]
  },
  {
   "cell_type": "code",
   "execution_count": 3,
   "metadata": {},
   "outputs": [
    {
     "data": {
      "text/latex": [
       "$\\displaystyle 22026465.7948067$"
      ],
      "text/plain": [
       "22026465.7948067"
      ]
     },
     "execution_count": 3,
     "metadata": {},
     "output_type": "execute_result"
    }
   ],
   "source": [
    "t = sym.Symbol('t')\n",
    "y=1000*sym.exp(5*t-300)\n",
    "y2=y.subs(t,62)\n",
    "y2.evalf()"
   ]
  },
  {
   "cell_type": "markdown",
   "metadata": {},
   "source": [
    "### This means that after 62 days have passed, the number of cells will be approximately 220,26465. "
   ]
  },
  {
   "cell_type": "code",
   "execution_count": 4,
   "metadata": {},
   "outputs": [
    {
     "name": "stdout",
     "output_type": "stream",
     "text": [
      "5000*exp(5*t - 300)\n"
     ]
    },
    {
     "data": {
      "text/latex": [
       "$\\displaystyle 110132328.974034$"
      ],
      "text/plain": [
       "110132328.974034"
      ]
     },
     "execution_count": 4,
     "metadata": {},
     "output_type": "execute_result"
    }
   ],
   "source": [
    "fd=sym.diff(1000*sym.exp(5*t-300))\n",
    "print(fd)\n",
    "fd2=fd.subs(t,62)\n",
    "fd2.evalf()"
   ]
  },
  {
   "cell_type": "markdown",
   "metadata": {},
   "source": [
    "### This means that after 62 days, the cells will be growing at a rate of approximately 1,101,32329/day."
   ]
  },
  {
   "cell_type": "markdown",
   "metadata": {},
   "source": [
    "### Q2> \n",
    "### A colony of bacteria double in population, n, after every hour, t. It is represented by the formula: n(t)=n0 • 2^t, where n0 represents the initial population. If the initial population is 150, how much bacteria will there be after 10 hours? What is the rate of change at this time? "
   ]
  },
  {
   "cell_type": "code",
   "execution_count": 5,
   "metadata": {},
   "outputs": [
    {
     "data": {
      "text/latex": [
       "$\\displaystyle 153600.0$"
      ],
      "text/plain": [
       "153600.000000000"
      ]
     },
     "execution_count": 5,
     "metadata": {},
     "output_type": "execute_result"
    }
   ],
   "source": [
    "##n(t)=n0*2**t\n",
    "#n0=150\n",
    "t = sym.Symbol('t')\n",
    "y=150*2**t\n",
    "y2=y.subs(t,10)\n",
    "y2.evalf()"
   ]
  },
  {
   "cell_type": "markdown",
   "metadata": {},
   "source": [
    "### This means that the colony's population will be 153,600 after 10 hours."
   ]
  },
  {
   "cell_type": "code",
   "execution_count": 6,
   "metadata": {},
   "outputs": [
    {
     "name": "stdout",
     "output_type": "stream",
     "text": [
      "150*2**t*log(2)\n"
     ]
    },
    {
     "data": {
      "text/latex": [
       "$\\displaystyle 106467.406934008$"
      ],
      "text/plain": [
       "106467.406934008"
      ]
     },
     "execution_count": 6,
     "metadata": {},
     "output_type": "execute_result"
    }
   ],
   "source": [
    "fd=sym.diff(150*2**t)\n",
    "print(fd)\n",
    "fd2=fd.subs(t,10)\n",
    "fd2.evalf()"
   ]
  },
  {
   "cell_type": "markdown",
   "metadata": {},
   "source": [
    "### This means that the colony's population will be growing at a rate of 106,467.4069/hour. "
   ]
  },
  {
   "cell_type": "markdown",
   "metadata": {},
   "source": [
    "### Q3>\n",
    "### Suppose a car is travelling at a distance of s=f(t) which is a function of time, t,                                              as given by s=f(t)= 8t^2-4t+23. What is the Car velocity? What is the Car Acceleration?"
   ]
  },
  {
   "cell_type": "code",
   "execution_count": 8,
   "metadata": {},
   "outputs": [
    {
     "data": {
      "text/latex": [
       "$\\displaystyle 783.0$"
      ],
      "text/plain": [
       "783.000000000000"
      ]
     },
     "execution_count": 8,
     "metadata": {},
     "output_type": "execute_result"
    }
   ],
   "source": [
    "# Displacment\n",
    "t = sym.Symbol('t')\n",
    "y=8*t**2-4*t+23\n",
    "y2=y.subs(t,10)\n",
    "y2.evalf()"
   ]
  },
  {
   "cell_type": "code",
   "execution_count": 9,
   "metadata": {},
   "outputs": [
    {
     "data": {
      "text/latex": [
       "$\\displaystyle 156.0$"
      ],
      "text/plain": [
       "156.000000000000"
      ]
     },
     "execution_count": 9,
     "metadata": {},
     "output_type": "execute_result"
    }
   ],
   "source": [
    "# Velocity\n",
    "fv=sym.diff(8*t**2-4*t+23)\n",
    "fv\n",
    "fv2=fv.subs(t,10)\n",
    "fv2.evalf()"
   ]
  },
  {
   "cell_type": "code",
   "execution_count": 10,
   "metadata": {},
   "outputs": [
    {
     "data": {
      "text/latex": [
       "$\\displaystyle 16$"
      ],
      "text/plain": [
       "16"
      ]
     },
     "execution_count": 10,
     "metadata": {},
     "output_type": "execute_result"
    }
   ],
   "source": [
    "# Accleration\n",
    "fa=sym.diff(16*t-4)\n",
    "fa"
   ]
  },
  {
   "cell_type": "markdown",
   "metadata": {},
   "source": [
    "### Q4>\n",
    "### Suppose the number of people infected with Cororna in Bangalore is given by f(t)= 0.5e^t + t^2 in hundreds, with being the time in days since corona began how many times higher is the rate of spread of Corona on day 6 then Day 2?"
   ]
  },
  {
   "cell_type": "code",
   "execution_count": 12,
   "metadata": {},
   "outputs": [
    {
     "data": {
      "text/latex": [
       "$\\displaystyle 213.714396746368$"
      ],
      "text/plain": [
       "213.714396746368"
      ]
     },
     "execution_count": 12,
     "metadata": {},
     "output_type": "execute_result"
    }
   ],
   "source": [
    "## rate of spread of Corona on day 6\n",
    "fd=sym.diff(0.5*sym.exp(t)+t**2)\n",
    "fd\n",
    "fd6=fd.subs(t,6)\n",
    "fd6.evalf()"
   ]
  },
  {
   "cell_type": "code",
   "execution_count": 13,
   "metadata": {},
   "outputs": [
    {
     "data": {
      "text/latex": [
       "$\\displaystyle 7.69452804946533$"
      ],
      "text/plain": [
       "7.69452804946533"
      ]
     },
     "execution_count": 13,
     "metadata": {},
     "output_type": "execute_result"
    }
   ],
   "source": [
    "## rate of spread of Corona on day 2\n",
    "fd=sym.diff(0.5*sym.exp(t)+t**2)\n",
    "fd\n",
    "fd2=fd.subs(t,2)\n",
    "fd2.evalf()"
   ]
  },
  {
   "cell_type": "code",
   "execution_count": 14,
   "metadata": {},
   "outputs": [
    {
     "data": {
      "text/plain": [
       "27.79115734720416"
      ]
     },
     "execution_count": 14,
     "metadata": {},
     "output_type": "execute_result"
    }
   ],
   "source": [
    "213.714/7.69"
   ]
  },
  {
   "cell_type": "markdown",
   "metadata": {},
   "source": [
    "#### Q5>\n",
    "\n",
    "### The function f(x)=2x3+x+3 as input, then calculate the derivative and plot both the function and its derivative."
   ]
  },
  {
   "cell_type": "code",
   "execution_count": 15,
   "metadata": {},
   "outputs": [
    {
     "data": {
      "image/png": "[encoded data removed]",
      "text/plain": [
       "<Figure size 432x288 with 1 Axes>"
      ]
     },
     "metadata": {
      "needs_background": "light"
     },
     "output_type": "display_data"
    }
   ],
   "source": [
    "# importing the library\n",
    "import matplotlib.pyplot as plt\n",
    "from scipy.misc import derivative\n",
    "import numpy as np\n",
    "  \n",
    "# defining the function\n",
    "def function(x):\n",
    "    return 2*x*x*x+x+3\n",
    "  \n",
    "# calculating its derivative\n",
    "def deriv(x):\n",
    "    return derivative(function, x)\n",
    "  \n",
    "# defininf x-axis intervals\n",
    "y = np.linspace(-6, 6)\n",
    "  \n",
    "# plotting the function\n",
    "plt.plot(y, function(y), color='purple', label='Function')\n",
    "  \n",
    "# plotting its derivative\n",
    "plt.plot(y, deriv(y), color='green', label='Derivative')\n",
    "  \n",
    "# formatting\n",
    "plt.legend(loc='upper left')\n",
    "plt.grid(True)"
   ]
  },
  {
   "cell_type": "code",
   "execution_count": null,
   "metadata": {},
   "outputs": [],
   "source": []
  }
 ],
 "metadata": {
  "kernelspec": {
   "display_name": "Python 3",
   "language": "python",
   "name": "python3"
  },
  "language_info": {
   "codemirror_mode": {
    "name": "ipython",
    "version": 3
   },
   "file_extension": ".py",
   "mimetype": "text/x-python",
   "name": "python",
   "nbconvert_exporter": "python",
   "pygments_lexer": "ipython3",
   "version": "3.8.3"
  }
 },
 "nbformat": 4,
 "nbformat_minor": 4
}
